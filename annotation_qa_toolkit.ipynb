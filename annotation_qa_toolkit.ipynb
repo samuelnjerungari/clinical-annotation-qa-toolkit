{
 "cells": [
  {
   "cell_type": "markdown",
   "id": "f6c104b6",
   "metadata": {},
   "source": [
    "# 🧪 Annotation QA Toolkit\n",
    "\n",
    "This notebook compares human vs. machine annotations and highlights mismatches for quality assurance in clinical NLP."
   ]
  },
  {
   "cell_type": "code",
   "execution_count": 1,
   "id": "001e7f8b-088a-435d-9c93-665634d75c6b",
   "metadata": {},
   "outputs": [
    {
     "name": "stdout",
     "output_type": "stream",
     "text": [
      "Requirement already satisfied: matplotlib in c:\\users\\administrator\\clinical-nlp-projects\\clinical-nlp-env\\lib\\site-packages (3.10.3)\n",
      "Requirement already satisfied: seaborn in c:\\users\\administrator\\clinical-nlp-projects\\clinical-nlp-env\\lib\\site-packages (0.13.2)\n",
      "Requirement already satisfied: contourpy>=1.0.1 in c:\\users\\administrator\\clinical-nlp-projects\\clinical-nlp-env\\lib\\site-packages (from matplotlib) (1.3.2)\n",
      "Requirement already satisfied: cycler>=0.10 in c:\\users\\administrator\\clinical-nlp-projects\\clinical-nlp-env\\lib\\site-packages (from matplotlib) (0.12.1)\n",
      "Requirement already satisfied: fonttools>=4.22.0 in c:\\users\\administrator\\clinical-nlp-projects\\clinical-nlp-env\\lib\\site-packages (from matplotlib) (4.58.0)\n",
      "Requirement already satisfied: kiwisolver>=1.3.1 in c:\\users\\administrator\\clinical-nlp-projects\\clinical-nlp-env\\lib\\site-packages (from matplotlib) (1.4.8)\n",
      "Requirement already satisfied: numpy>=1.23 in c:\\users\\administrator\\clinical-nlp-projects\\clinical-nlp-env\\lib\\site-packages (from matplotlib) (2.2.5)\n",
      "Requirement already satisfied: packaging>=20.0 in c:\\users\\administrator\\clinical-nlp-projects\\clinical-nlp-env\\lib\\site-packages (from matplotlib) (25.0)\n",
      "Requirement already satisfied: pillow>=8 in c:\\users\\administrator\\clinical-nlp-projects\\clinical-nlp-env\\lib\\site-packages (from matplotlib) (11.2.1)\n",
      "Requirement already satisfied: pyparsing>=2.3.1 in c:\\users\\administrator\\clinical-nlp-projects\\clinical-nlp-env\\lib\\site-packages (from matplotlib) (3.2.3)\n",
      "Requirement already satisfied: python-dateutil>=2.7 in c:\\users\\administrator\\clinical-nlp-projects\\clinical-nlp-env\\lib\\site-packages (from matplotlib) (2.9.0.post0)\n",
      "Requirement already satisfied: pandas>=1.2 in c:\\users\\administrator\\clinical-nlp-projects\\clinical-nlp-env\\lib\\site-packages (from seaborn) (2.2.3)\n",
      "Requirement already satisfied: pytz>=2020.1 in c:\\users\\administrator\\clinical-nlp-projects\\clinical-nlp-env\\lib\\site-packages (from pandas>=1.2->seaborn) (2025.2)\n",
      "Requirement already satisfied: tzdata>=2022.7 in c:\\users\\administrator\\clinical-nlp-projects\\clinical-nlp-env\\lib\\site-packages (from pandas>=1.2->seaborn) (2025.2)\n",
      "Requirement already satisfied: six>=1.5 in c:\\users\\administrator\\clinical-nlp-projects\\clinical-nlp-env\\lib\\site-packages (from python-dateutil>=2.7->matplotlib) (1.17.0)\n"
     ]
    }
   ],
   "source": [
    "!pip install matplotlib seaborn\n"
   ]
  },
  {
   "cell_type": "code",
   "execution_count": 2,
   "id": "8b052cb1",
   "metadata": {},
   "outputs": [],
   "source": [
    "import pandas as pd\n",
    "\n",
    "# Set display options for better visibility\n",
    "pd.set_option('display.max_colwidth', None)\n"
   ]
  },
  {
   "cell_type": "markdown",
   "id": "219ab5fa",
   "metadata": {},
   "source": [
    "## 🔍 Load Annotations"
   ]
  },
  {
   "cell_type": "code",
   "execution_count": 3,
   "id": "380a789a",
   "metadata": {},
   "outputs": [
    {
     "name": "stdout",
     "output_type": "stream",
     "text": [
      "🧑 Human Annotations:\n"
     ]
    },
    {
     "data": {
      "text/html": [
       "<div>\n",
       "<style scoped>\n",
       "    .dataframe tbody tr th:only-of-type {\n",
       "        vertical-align: middle;\n",
       "    }\n",
       "\n",
       "    .dataframe tbody tr th {\n",
       "        vertical-align: top;\n",
       "    }\n",
       "\n",
       "    .dataframe thead th {\n",
       "        text-align: right;\n",
       "    }\n",
       "</style>\n",
       "<table border=\"1\" class=\"dataframe\">\n",
       "  <thead>\n",
       "    <tr style=\"text-align: right;\">\n",
       "      <th></th>\n",
       "      <th>Text</th>\n",
       "      <th>Entity</th>\n",
       "      <th>Label</th>\n",
       "      <th>Start</th>\n",
       "      <th>End</th>\n",
       "    </tr>\n",
       "  </thead>\n",
       "  <tbody>\n",
       "    <tr>\n",
       "      <th>0</th>\n",
       "      <td>The patient has diabetes.</td>\n",
       "      <td>diabetes</td>\n",
       "      <td>CONDITION</td>\n",
       "      <td>18</td>\n",
       "      <td>26</td>\n",
       "    </tr>\n",
       "    <tr>\n",
       "      <th>1</th>\n",
       "      <td>He was prescribed ibuprofen.</td>\n",
       "      <td>ibuprofen</td>\n",
       "      <td>MED</td>\n",
       "      <td>23</td>\n",
       "      <td>32</td>\n",
       "    </tr>\n",
       "    <tr>\n",
       "      <th>2</th>\n",
       "      <td>Patient denies chest pain.</td>\n",
       "      <td>chest pain</td>\n",
       "      <td>SYMPTOM</td>\n",
       "      <td>15</td>\n",
       "      <td>26</td>\n",
       "    </tr>\n",
       "    <tr>\n",
       "      <th>3</th>\n",
       "      <td>She takes metformin daily.</td>\n",
       "      <td>metformin</td>\n",
       "      <td>MED</td>\n",
       "      <td>10</td>\n",
       "      <td>19</td>\n",
       "    </tr>\n",
       "  </tbody>\n",
       "</table>\n",
       "</div>"
      ],
      "text/plain": [
       "                           Text      Entity      Label  Start  End\n",
       "0     The patient has diabetes.    diabetes  CONDITION     18   26\n",
       "1  He was prescribed ibuprofen.   ibuprofen        MED     23   32\n",
       "2    Patient denies chest pain.  chest pain    SYMPTOM     15   26\n",
       "3    She takes metformin daily.   metformin        MED     10   19"
      ]
     },
     "metadata": {},
     "output_type": "display_data"
    },
    {
     "name": "stdout",
     "output_type": "stream",
     "text": [
      "\n",
      "🤖 Machine Annotations:\n"
     ]
    },
    {
     "data": {
      "text/html": [
       "<div>\n",
       "<style scoped>\n",
       "    .dataframe tbody tr th:only-of-type {\n",
       "        vertical-align: middle;\n",
       "    }\n",
       "\n",
       "    .dataframe tbody tr th {\n",
       "        vertical-align: top;\n",
       "    }\n",
       "\n",
       "    .dataframe thead th {\n",
       "        text-align: right;\n",
       "    }\n",
       "</style>\n",
       "<table border=\"1\" class=\"dataframe\">\n",
       "  <thead>\n",
       "    <tr style=\"text-align: right;\">\n",
       "      <th></th>\n",
       "      <th>Text</th>\n",
       "      <th>Entity</th>\n",
       "      <th>Label</th>\n",
       "      <th>Start</th>\n",
       "      <th>End</th>\n",
       "    </tr>\n",
       "  </thead>\n",
       "  <tbody>\n",
       "    <tr>\n",
       "      <th>0</th>\n",
       "      <td>The patient has diabetes.</td>\n",
       "      <td>diabetes</td>\n",
       "      <td>DISEASE</td>\n",
       "      <td>18</td>\n",
       "      <td>26</td>\n",
       "    </tr>\n",
       "    <tr>\n",
       "      <th>1</th>\n",
       "      <td>He was prescribed ibuprofen.</td>\n",
       "      <td>ibuprofen</td>\n",
       "      <td>MED</td>\n",
       "      <td>23</td>\n",
       "      <td>32</td>\n",
       "    </tr>\n",
       "    <tr>\n",
       "      <th>2</th>\n",
       "      <td>Patient denies chest pain.</td>\n",
       "      <td>chest</td>\n",
       "      <td>SYMPTOM</td>\n",
       "      <td>15</td>\n",
       "      <td>20</td>\n",
       "    </tr>\n",
       "    <tr>\n",
       "      <th>3</th>\n",
       "      <td>She takes metformin daily.</td>\n",
       "      <td>metformin</td>\n",
       "      <td>MEDICATION</td>\n",
       "      <td>10</td>\n",
       "      <td>19</td>\n",
       "    </tr>\n",
       "  </tbody>\n",
       "</table>\n",
       "</div>"
      ],
      "text/plain": [
       "                           Text     Entity       Label  Start  End\n",
       "0     The patient has diabetes.   diabetes     DISEASE     18   26\n",
       "1  He was prescribed ibuprofen.  ibuprofen         MED     23   32\n",
       "2    Patient denies chest pain.      chest     SYMPTOM     15   20\n",
       "3    She takes metformin daily.  metformin  MEDICATION     10   19"
      ]
     },
     "metadata": {},
     "output_type": "display_data"
    }
   ],
   "source": [
    "# Update these paths if necessary\n",
    "human_path = \"human_annotations.csv\"\n",
    "machine_path = \"machine_annotations.csv\"\n",
    "\n",
    "# Load the CSV files\n",
    "df_human = pd.read_csv(human_path)\n",
    "df_machine = pd.read_csv(machine_path)\n",
    "\n",
    "# Preview human annotations\n",
    "print(\"🧑 Human Annotations:\")\n",
    "display(df_human)\n",
    "\n",
    "# Preview machine annotations\n",
    "print(\"\\n🤖 Machine Annotations:\")\n",
    "display(df_machine)\n"
   ]
  },
  {
   "cell_type": "markdown",
   "id": "2e788e06",
   "metadata": {},
   "source": [
    "## 🔍 Step 2: Compare Human vs Machine Annotations"
   ]
  },
  {
   "cell_type": "code",
   "execution_count": 4,
   "id": "93b20092",
   "metadata": {},
   "outputs": [
    {
     "data": {
      "text/html": [
       "<div>\n",
       "<style scoped>\n",
       "    .dataframe tbody tr th:only-of-type {\n",
       "        vertical-align: middle;\n",
       "    }\n",
       "\n",
       "    .dataframe tbody tr th {\n",
       "        vertical-align: top;\n",
       "    }\n",
       "\n",
       "    .dataframe thead th {\n",
       "        text-align: right;\n",
       "    }\n",
       "</style>\n",
       "<table border=\"1\" class=\"dataframe\">\n",
       "  <thead>\n",
       "    <tr style=\"text-align: right;\">\n",
       "      <th></th>\n",
       "      <th>Text</th>\n",
       "      <th>Entity_Human</th>\n",
       "      <th>Label_Human</th>\n",
       "      <th>Entity_Machine</th>\n",
       "      <th>Label_Machine</th>\n",
       "      <th>Match_Type</th>\n",
       "    </tr>\n",
       "  </thead>\n",
       "  <tbody>\n",
       "    <tr>\n",
       "      <th>0</th>\n",
       "      <td>He was prescribed ibuprofen.</td>\n",
       "      <td>ibuprofen</td>\n",
       "      <td>MED</td>\n",
       "      <td>ibuprofen</td>\n",
       "      <td>MED</td>\n",
       "      <td>✅ Exact Match</td>\n",
       "    </tr>\n",
       "    <tr>\n",
       "      <th>1</th>\n",
       "      <td>Patient denies chest pain.</td>\n",
       "      <td>NaN</td>\n",
       "      <td>NaN</td>\n",
       "      <td>chest</td>\n",
       "      <td>SYMPTOM</td>\n",
       "      <td>❌ Human Missing</td>\n",
       "    </tr>\n",
       "    <tr>\n",
       "      <th>2</th>\n",
       "      <td>Patient denies chest pain.</td>\n",
       "      <td>chest pain</td>\n",
       "      <td>SYMPTOM</td>\n",
       "      <td>NaN</td>\n",
       "      <td>NaN</td>\n",
       "      <td>❌ Machine Missing</td>\n",
       "    </tr>\n",
       "    <tr>\n",
       "      <th>3</th>\n",
       "      <td>She takes metformin daily.</td>\n",
       "      <td>metformin</td>\n",
       "      <td>MED</td>\n",
       "      <td>metformin</td>\n",
       "      <td>MEDICATION</td>\n",
       "      <td>❌ Label Mismatch</td>\n",
       "    </tr>\n",
       "    <tr>\n",
       "      <th>4</th>\n",
       "      <td>The patient has diabetes.</td>\n",
       "      <td>diabetes</td>\n",
       "      <td>CONDITION</td>\n",
       "      <td>diabetes</td>\n",
       "      <td>DISEASE</td>\n",
       "      <td>❌ Label Mismatch</td>\n",
       "    </tr>\n",
       "  </tbody>\n",
       "</table>\n",
       "</div>"
      ],
      "text/plain": [
       "                           Text Entity_Human Label_Human Entity_Machine  \\\n",
       "0  He was prescribed ibuprofen.    ibuprofen         MED      ibuprofen   \n",
       "1    Patient denies chest pain.          NaN         NaN          chest   \n",
       "2    Patient denies chest pain.   chest pain     SYMPTOM            NaN   \n",
       "3    She takes metformin daily.    metformin         MED      metformin   \n",
       "4     The patient has diabetes.     diabetes   CONDITION       diabetes   \n",
       "\n",
       "  Label_Machine         Match_Type  \n",
       "0           MED      ✅ Exact Match  \n",
       "1       SYMPTOM    ❌ Human Missing  \n",
       "2           NaN  ❌ Machine Missing  \n",
       "3    MEDICATION   ❌ Label Mismatch  \n",
       "4       DISEASE   ❌ Label Mismatch  "
      ]
     },
     "metadata": {},
     "output_type": "display_data"
    }
   ],
   "source": [
    "\n",
    "# Merge based on Text and character span\n",
    "merged = pd.merge(\n",
    "    df_human,\n",
    "    df_machine,\n",
    "    on=[\"Text\", \"Start\", \"End\"],\n",
    "    how=\"outer\",\n",
    "    suffixes=(\"_Human\", \"_Machine\"),\n",
    "    indicator=True\n",
    ")\n",
    "\n",
    "# Initialize the Match_Type column\n",
    "def classify_match(row):\n",
    "    if row[\"_merge\"] == \"left_only\":\n",
    "        return \"❌ Machine Missing\"\n",
    "    elif row[\"_merge\"] == \"right_only\":\n",
    "        return \"❌ Human Missing\"\n",
    "    else:\n",
    "        if row[\"Entity_Human\"] != row[\"Entity_Machine\"]:\n",
    "            return \"❌ Span Mismatch\"\n",
    "        elif row[\"Label_Human\"] != row[\"Label_Machine\"]:\n",
    "            return \"❌ Label Mismatch\"\n",
    "        else:\n",
    "            return \"✅ Exact Match\"\n",
    "\n",
    "merged[\"Match_Type\"] = merged.apply(classify_match, axis=1)\n",
    "\n",
    "# Display the results\n",
    "display(merged[[\n",
    "    \"Text\", \n",
    "    \"Entity_Human\", \"Label_Human\", \n",
    "    \"Entity_Machine\", \"Label_Machine\", \n",
    "    \"Match_Type\"\n",
    "]])\n"
   ]
  },
  {
   "cell_type": "markdown",
   "id": "b446c934",
   "metadata": {},
   "source": [
    "## 📊 Step 3: Evaluate Annotation Quality (Precision, Recall, F1)"
   ]
  },
  {
   "cell_type": "code",
   "execution_count": 5,
   "id": "ab183f12",
   "metadata": {},
   "outputs": [
    {
     "name": "stdout",
     "output_type": "stream",
     "text": [
      "📊 Evaluation Results:\n",
      "Precision: 1.00\n",
      "Recall:    0.33\n",
      "F1 Score:  0.50\n"
     ]
    }
   ],
   "source": [
    "\n",
    "from sklearn.metrics import precision_score, recall_score, f1_score\n",
    "\n",
    "# Filter out rows where either side is missing\n",
    "eval_df = merged[merged['_merge'] == 'both'].copy()\n",
    "\n",
    "# Create ground truth and prediction labels\n",
    "y_true = eval_df[\"Label_Human\"]\n",
    "y_pred = eval_df[\"Label_Machine\"]\n",
    "\n",
    "# Convert to categorical evaluation (match = 1, mismatch = 0)\n",
    "exact_match = y_true == y_pred\n",
    "binary_true = [1] * len(y_true)\n",
    "binary_pred = exact_match.astype(int)\n",
    "\n",
    "# Calculate metrics\n",
    "precision = precision_score(binary_true, binary_pred)\n",
    "recall = recall_score(binary_true, binary_pred)\n",
    "f1 = f1_score(binary_true, binary_pred)\n",
    "\n",
    "print(\"📊 Evaluation Results:\")\n",
    "print(f\"Precision: {precision:.2f}\")\n",
    "print(f\"Recall:    {recall:.2f}\")\n",
    "print(f\"F1 Score:  {f1:.2f}\")\n"
   ]
  },
  {
   "cell_type": "markdown",
   "id": "282b8d33",
   "metadata": {},
   "source": [
    "## 💾 Step 4: Export QA Results to CSV"
   ]
  },
  {
   "cell_type": "code",
   "execution_count": 6,
   "id": "540782c0",
   "metadata": {},
   "outputs": [
    {
     "name": "stdout",
     "output_type": "stream",
     "text": [
      "✅ Exported to annotation_comparison_results.csv\n"
     ]
    }
   ],
   "source": [
    "\n",
    "# Export merged comparison results to CSV\n",
    "merged.to_csv(\"annotation_comparison_results.csv\", index=False)\n",
    "print(\"✅ Exported to annotation_comparison_results.csv\")\n"
   ]
  },
  {
   "cell_type": "markdown",
   "id": "fd0fd5d5",
   "metadata": {},
   "source": [
    "## 📊 Step 5: Visualize Match Types"
   ]
  },
  {
   "cell_type": "code",
   "execution_count": 7,
   "id": "a979d482",
   "metadata": {},
   "outputs": [
    {
     "name": "stderr",
     "output_type": "stream",
     "text": [
      "C:\\Users\\Administrator\\AppData\\Local\\Temp\\ipykernel_6196\\240591494.py:13: UserWarning: Glyph 10060 (\\N{CROSS MARK}) missing from font(s) DejaVu Sans.\n",
      "  plt.tight_layout()\n",
      "C:\\Users\\Administrator\\AppData\\Local\\Temp\\ipykernel_6196\\240591494.py:13: UserWarning: Glyph 9989 (\\N{WHITE HEAVY CHECK MARK}) missing from font(s) DejaVu Sans.\n",
      "  plt.tight_layout()\n",
      "C:\\Users\\Administrator\\AppData\\Local\\Temp\\ipykernel_6196\\240591494.py:13: UserWarning: Glyph 128269 (\\N{LEFT-POINTING MAGNIFYING GLASS}) missing from font(s) DejaVu Sans.\n",
      "  plt.tight_layout()\n",
      "C:\\Users\\Administrator\\clinical-nlp-projects\\clinical-nlp-env\\lib\\site-packages\\IPython\\core\\pylabtools.py:170: UserWarning: Glyph 128269 (\\N{LEFT-POINTING MAGNIFYING GLASS}) missing from font(s) DejaVu Sans.\n",
      "  fig.canvas.print_figure(bytes_io, **kw)\n",
      "C:\\Users\\Administrator\\clinical-nlp-projects\\clinical-nlp-env\\lib\\site-packages\\IPython\\core\\pylabtools.py:170: UserWarning: Glyph 10060 (\\N{CROSS MARK}) missing from font(s) DejaVu Sans.\n",
      "  fig.canvas.print_figure(bytes_io, **kw)\n",
      "C:\\Users\\Administrator\\clinical-nlp-projects\\clinical-nlp-env\\lib\\site-packages\\IPython\\core\\pylabtools.py:170: UserWarning: Glyph 9989 (\\N{WHITE HEAVY CHECK MARK}) missing from font(s) DejaVu Sans.\n",
      "  fig.canvas.print_figure(bytes_io, **kw)\n"
     ]
    },
    {
     "data": {
      "image/png": "[encoded data removed]",
      "text/plain": [
       "<Figure size 800x500 with 1 Axes>"
      ]
     },
     "metadata": {},
     "output_type": "display_data"
    },
    {
     "data": {
      "image/png": "[encoded data removed]",
      "text/plain": [
       "<Figure size 600x600 with 1 Axes>"
      ]
     },
     "metadata": {},
     "output_type": "display_data"
    }
   ],
   "source": [
    "\n",
    "import matplotlib.pyplot as plt\n",
    "import seaborn as sns\n",
    "\n",
    "# Count match types\n",
    "match_counts = merged['Match_Type'].value_counts()\n",
    "\n",
    "# Bar chart\n",
    "plt.figure(figsize=(8, 5))\n",
    "sns.barplot(x=match_counts.index, y=match_counts.values, hue=match_counts.index, palette=\"Set2\", legend=False)\n",
    "plt.title(\"🔍 Annotation QA Match Types\")\n",
    "plt.ylabel(\"Count\")\n",
    "plt.xticks(rotation=45)\n",
    "plt.tight_layout()\n",
    "plt.show()\n",
    "\n",
    "# Optional: Pie chart\n",
    "plt.figure(figsize=(6, 6))\n",
    "plt.pie(match_counts.values, labels=match_counts.index, autopct='%1.1f%%', startangle=140, colors=sns.color_palette(\"Set2\"))\n",
    "plt.title(\"Annotation Match Distribution\")\n",
    "plt.axis('equal')\n",
    "plt.show()\n"
   ]
  }
 ],
 "metadata": {
  "kernelspec": {
   "display_name": "Python (clinical-nlp-env)",
   "language": "python",
   "name": "clinical-nlp-env"
  },
  "language_info": {
   "codemirror_mode": {
    "name": "ipython",
    "version": 3
   },
   "file_extension": ".py",
   "mimetype": "text/x-python",
   "name": "python",
   "nbconvert_exporter": "python",
   "pygments_lexer": "ipython3",
   "version": "3.10.9"
  }
 },
 "nbformat": 4,
 "nbformat_minor": 5
}
